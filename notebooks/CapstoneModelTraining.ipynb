{
  "cells": [
    {
      "cell_type": "code",
      "execution_count": 2,
      "metadata": {
        "id": "iCzINi8ni8xZ"
      },
      "outputs": [],
      "source": [
        "import pandas as pd\n",
        "from collections import Counter"
      ]
    },
    {
      "cell_type": "code",
      "execution_count": null,
      "metadata": {
        "id": "4Z4T4YjEu2LS"
      },
      "outputs": [],
      "source": [
        "# Load your cleaned data\n",
        "df = pd.read_csv(\"/content/enron_recleaned.csv\")"
      ]
    },
    {
      "cell_type": "code",
      "source": [
        "df.head()"
      ],
      "metadata": {
        "colab": {
          "base_uri": "https://localhost:8080/",
          "height": 660
        },
        "id": "fLH8aODZVHCh",
        "outputId": "331f7066-01f5-4e0e-eb62-0ecaaab413ac"
      },
      "execution_count": null,
      "outputs": [
        {
          "output_type": "execute_result",
          "data": {
            "text/plain": [
              "                       file  \\\n",
              "0     allen-p/_sent_mail/1.   \n",
              "1    allen-p/_sent_mail/10.   \n",
              "2   allen-p/_sent_mail/100.   \n",
              "3  allen-p/_sent_mail/1000.   \n",
              "4  allen-p/_sent_mail/1001.   \n",
              "\n",
              "                                             message                     from  \\\n",
              "0  Message-ID: <18782981.1075855378110.JavaMail.e...  phillip.allen@enron.com   \n",
              "1  Message-ID: <15464986.1075855378456.JavaMail.e...  phillip.allen@enron.com   \n",
              "2  Message-ID: <24216240.1075855687451.JavaMail.e...  phillip.allen@enron.com   \n",
              "3  Message-ID: <13505866.1075863688222.JavaMail.e...  phillip.allen@enron.com   \n",
              "4  Message-ID: <30922949.1075863688243.JavaMail.e...  phillip.allen@enron.com   \n",
              "\n",
              "                        to   cc  bcc                                   date  \\\n",
              "0     tim.belden@enron.com  NaN  NaN  Mon, 14 May 2001 16:39:00 -0700 (PDT)   \n",
              "1  john.lavorato@enron.com  NaN  NaN   Fri, 4 May 2001 13:51:00 -0700 (PDT)   \n",
              "2   leah.arsdall@enron.com  NaN  NaN  Wed, 18 Oct 2000 03:00:00 -0700 (PDT)   \n",
              "3    randall.gay@enron.com  NaN  NaN  Mon, 23 Oct 2000 06:13:00 -0700 (PDT)   \n",
              "4     greg.piper@enron.com  NaN  NaN  Thu, 31 Aug 2000 05:07:00 -0700 (PDT)   \n",
              "\n",
              "             subject                                    cleaned_message  \n",
              "0  Mime-Version: 1.0  mimevers contenttyp textplain charsetusascii c...  \n",
              "1                Re:  mimevers contenttyp textplain charsetusascii c...  \n",
              "2           Re: test  mimevers contenttyp textplain charsetusascii c...  \n",
              "3  Mime-Version: 1.0  mimevers contenttyp textplain charsetusascii c...  \n",
              "4          Re: Hello  mimevers contenttyp textplain charsetusascii c...  "
            ],
            "text/html": [
              "\n",
              "  <div id=\"df-5844fc87-bd31-4c4e-b508-78f9736e915c\" class=\"colab-df-container\">\n",
              "    <div>\n",
              "<style scoped>\n",
              "    .dataframe tbody tr th:only-of-type {\n",
              "        vertical-align: middle;\n",
              "    }\n",
              "\n",
              "    .dataframe tbody tr th {\n",
              "        vertical-align: top;\n",
              "    }\n",
              "\n",
              "    .dataframe thead th {\n",
              "        text-align: right;\n",
              "    }\n",
              "</style>\n",
              "<table border=\"1\" class=\"dataframe\">\n",
              "  <thead>\n",
              "    <tr style=\"text-align: right;\">\n",
              "      <th></th>\n",
              "      <th>file</th>\n",
              "      <th>message</th>\n",
              "      <th>from</th>\n",
              "      <th>to</th>\n",
              "      <th>cc</th>\n",
              "      <th>bcc</th>\n",
              "      <th>date</th>\n",
              "      <th>subject</th>\n",
              "      <th>cleaned_message</th>\n",
              "    </tr>\n",
              "  </thead>\n",
              "  <tbody>\n",
              "    <tr>\n",
              "      <th>0</th>\n",
              "      <td>allen-p/_sent_mail/1.</td>\n",
              "      <td>Message-ID: &lt;18782981.1075855378110.JavaMail.e...</td>\n",
              "      <td>phillip.allen@enron.com</td>\n",
              "      <td>tim.belden@enron.com</td>\n",
              "      <td>NaN</td>\n",
              "      <td>NaN</td>\n",
              "      <td>Mon, 14 May 2001 16:39:00 -0700 (PDT)</td>\n",
              "      <td>Mime-Version: 1.0</td>\n",
              "      <td>mimevers contenttyp textplain charsetusascii c...</td>\n",
              "    </tr>\n",
              "    <tr>\n",
              "      <th>1</th>\n",
              "      <td>allen-p/_sent_mail/10.</td>\n",
              "      <td>Message-ID: &lt;15464986.1075855378456.JavaMail.e...</td>\n",
              "      <td>phillip.allen@enron.com</td>\n",
              "      <td>john.lavorato@enron.com</td>\n",
              "      <td>NaN</td>\n",
              "      <td>NaN</td>\n",
              "      <td>Fri, 4 May 2001 13:51:00 -0700 (PDT)</td>\n",
              "      <td>Re:</td>\n",
              "      <td>mimevers contenttyp textplain charsetusascii c...</td>\n",
              "    </tr>\n",
              "    <tr>\n",
              "      <th>2</th>\n",
              "      <td>allen-p/_sent_mail/100.</td>\n",
              "      <td>Message-ID: &lt;24216240.1075855687451.JavaMail.e...</td>\n",
              "      <td>phillip.allen@enron.com</td>\n",
              "      <td>leah.arsdall@enron.com</td>\n",
              "      <td>NaN</td>\n",
              "      <td>NaN</td>\n",
              "      <td>Wed, 18 Oct 2000 03:00:00 -0700 (PDT)</td>\n",
              "      <td>Re: test</td>\n",
              "      <td>mimevers contenttyp textplain charsetusascii c...</td>\n",
              "    </tr>\n",
              "    <tr>\n",
              "      <th>3</th>\n",
              "      <td>allen-p/_sent_mail/1000.</td>\n",
              "      <td>Message-ID: &lt;13505866.1075863688222.JavaMail.e...</td>\n",
              "      <td>phillip.allen@enron.com</td>\n",
              "      <td>randall.gay@enron.com</td>\n",
              "      <td>NaN</td>\n",
              "      <td>NaN</td>\n",
              "      <td>Mon, 23 Oct 2000 06:13:00 -0700 (PDT)</td>\n",
              "      <td>Mime-Version: 1.0</td>\n",
              "      <td>mimevers contenttyp textplain charsetusascii c...</td>\n",
              "    </tr>\n",
              "    <tr>\n",
              "      <th>4</th>\n",
              "      <td>allen-p/_sent_mail/1001.</td>\n",
              "      <td>Message-ID: &lt;30922949.1075863688243.JavaMail.e...</td>\n",
              "      <td>phillip.allen@enron.com</td>\n",
              "      <td>greg.piper@enron.com</td>\n",
              "      <td>NaN</td>\n",
              "      <td>NaN</td>\n",
              "      <td>Thu, 31 Aug 2000 05:07:00 -0700 (PDT)</td>\n",
              "      <td>Re: Hello</td>\n",
              "      <td>mimevers contenttyp textplain charsetusascii c...</td>\n",
              "    </tr>\n",
              "  </tbody>\n",
              "</table>\n",
              "</div>\n",
              "    <div class=\"colab-df-buttons\">\n",
              "\n",
              "  <div class=\"colab-df-container\">\n",
              "    <button class=\"colab-df-convert\" onclick=\"convertToInteractive('df-5844fc87-bd31-4c4e-b508-78f9736e915c')\"\n",
              "            title=\"Convert this dataframe to an interactive table.\"\n",
              "            style=\"display:none;\">\n",
              "\n",
              "  <svg xmlns=\"http://www.w3.org/2000/svg\" height=\"24px\" viewBox=\"0 -960 960 960\">\n",
              "    <path d=\"M120-120v-720h720v720H120Zm60-500h600v-160H180v160Zm220 220h160v-160H400v160Zm0 220h160v-160H400v160ZM180-400h160v-160H180v160Zm440 0h160v-160H620v160ZM180-180h160v-160H180v160Zm440 0h160v-160H620v160Z\"/>\n",
              "  </svg>\n",
              "    </button>\n",
              "\n",
              "  <style>\n",
              "    .colab-df-container {\n",
              "      display:flex;\n",
              "      gap: 12px;\n",
              "    }\n",
              "\n",
              "    .colab-df-convert {\n",
              "      background-color: #E8F0FE;\n",
              "      border: none;\n",
              "      border-radius: 50%;\n",
              "      cursor: pointer;\n",
              "      display: none;\n",
              "      fill: #1967D2;\n",
              "      height: 32px;\n",
              "      padding: 0 0 0 0;\n",
              "      width: 32px;\n",
              "    }\n",
              "\n",
              "    .colab-df-convert:hover {\n",
              "      background-color: #E2EBFA;\n",
              "      box-shadow: 0px 1px 2px rgba(60, 64, 67, 0.3), 0px 1px 3px 1px rgba(60, 64, 67, 0.15);\n",
              "      fill: #174EA6;\n",
              "    }\n",
              "\n",
              "    .colab-df-buttons div {\n",
              "      margin-bottom: 4px;\n",
              "    }\n",
              "\n",
              "    [theme=dark] .colab-df-convert {\n",
              "      background-color: #3B4455;\n",
              "      fill: #D2E3FC;\n",
              "    }\n",
              "\n",
              "    [theme=dark] .colab-df-convert:hover {\n",
              "      background-color: #434B5C;\n",
              "      box-shadow: 0px 1px 3px 1px rgba(0, 0, 0, 0.15);\n",
              "      filter: drop-shadow(0px 1px 2px rgba(0, 0, 0, 0.3));\n",
              "      fill: #FFFFFF;\n",
              "    }\n",
              "  </style>\n",
              "\n",
              "    <script>\n",
              "      const buttonEl =\n",
              "        document.querySelector('#df-5844fc87-bd31-4c4e-b508-78f9736e915c button.colab-df-convert');\n",
              "      buttonEl.style.display =\n",
              "        google.colab.kernel.accessAllowed ? 'block' : 'none';\n",
              "\n",
              "      async function convertToInteractive(key) {\n",
              "        const element = document.querySelector('#df-5844fc87-bd31-4c4e-b508-78f9736e915c');\n",
              "        const dataTable =\n",
              "          await google.colab.kernel.invokeFunction('convertToInteractive',\n",
              "                                                    [key], {});\n",
              "        if (!dataTable) return;\n",
              "\n",
              "        const docLinkHtml = 'Like what you see? Visit the ' +\n",
              "          '<a target=\"_blank\" href=https://colab.research.google.com/notebooks/data_table.ipynb>data table notebook</a>'\n",
              "          + ' to learn more about interactive tables.';\n",
              "        element.innerHTML = '';\n",
              "        dataTable['output_type'] = 'display_data';\n",
              "        await google.colab.output.renderOutput(dataTable, element);\n",
              "        const docLink = document.createElement('div');\n",
              "        docLink.innerHTML = docLinkHtml;\n",
              "        element.appendChild(docLink);\n",
              "      }\n",
              "    </script>\n",
              "  </div>\n",
              "\n",
              "\n",
              "    <div id=\"df-6613420b-6ae0-4aed-95fc-4fec6ce6f509\">\n",
              "      <button class=\"colab-df-quickchart\" onclick=\"quickchart('df-6613420b-6ae0-4aed-95fc-4fec6ce6f509')\"\n",
              "                title=\"Suggest charts\"\n",
              "                style=\"display:none;\">\n",
              "\n",
              "<svg xmlns=\"http://www.w3.org/2000/svg\" height=\"24px\"viewBox=\"0 0 24 24\"\n",
              "     width=\"24px\">\n",
              "    <g>\n",
              "        <path d=\"M19 3H5c-1.1 0-2 .9-2 2v14c0 1.1.9 2 2 2h14c1.1 0 2-.9 2-2V5c0-1.1-.9-2-2-2zM9 17H7v-7h2v7zm4 0h-2V7h2v10zm4 0h-2v-4h2v4z\"/>\n",
              "    </g>\n",
              "</svg>\n",
              "      </button>\n",
              "\n",
              "<style>\n",
              "  .colab-df-quickchart {\n",
              "      --bg-color: #E8F0FE;\n",
              "      --fill-color: #1967D2;\n",
              "      --hover-bg-color: #E2EBFA;\n",
              "      --hover-fill-color: #174EA6;\n",
              "      --disabled-fill-color: #AAA;\n",
              "      --disabled-bg-color: #DDD;\n",
              "  }\n",
              "\n",
              "  [theme=dark] .colab-df-quickchart {\n",
              "      --bg-color: #3B4455;\n",
              "      --fill-color: #D2E3FC;\n",
              "      --hover-bg-color: #434B5C;\n",
              "      --hover-fill-color: #FFFFFF;\n",
              "      --disabled-bg-color: #3B4455;\n",
              "      --disabled-fill-color: #666;\n",
              "  }\n",
              "\n",
              "  .colab-df-quickchart {\n",
              "    background-color: var(--bg-color);\n",
              "    border: none;\n",
              "    border-radius: 50%;\n",
              "    cursor: pointer;\n",
              "    display: none;\n",
              "    fill: var(--fill-color);\n",
              "    height: 32px;\n",
              "    padding: 0;\n",
              "    width: 32px;\n",
              "  }\n",
              "\n",
              "  .colab-df-quickchart:hover {\n",
              "    background-color: var(--hover-bg-color);\n",
              "    box-shadow: 0 1px 2px rgba(60, 64, 67, 0.3), 0 1px 3px 1px rgba(60, 64, 67, 0.15);\n",
              "    fill: var(--button-hover-fill-color);\n",
              "  }\n",
              "\n",
              "  .colab-df-quickchart-complete:disabled,\n",
              "  .colab-df-quickchart-complete:disabled:hover {\n",
              "    background-color: var(--disabled-bg-color);\n",
              "    fill: var(--disabled-fill-color);\n",
              "    box-shadow: none;\n",
              "  }\n",
              "\n",
              "  .colab-df-spinner {\n",
              "    border: 2px solid var(--fill-color);\n",
              "    border-color: transparent;\n",
              "    border-bottom-color: var(--fill-color);\n",
              "    animation:\n",
              "      spin 1s steps(1) infinite;\n",
              "  }\n",
              "\n",
              "  @keyframes spin {\n",
              "    0% {\n",
              "      border-color: transparent;\n",
              "      border-bottom-color: var(--fill-color);\n",
              "      border-left-color: var(--fill-color);\n",
              "    }\n",
              "    20% {\n",
              "      border-color: transparent;\n",
              "      border-left-color: var(--fill-color);\n",
              "      border-top-color: var(--fill-color);\n",
              "    }\n",
              "    30% {\n",
              "      border-color: transparent;\n",
              "      border-left-color: var(--fill-color);\n",
              "      border-top-color: var(--fill-color);\n",
              "      border-right-color: var(--fill-color);\n",
              "    }\n",
              "    40% {\n",
              "      border-color: transparent;\n",
              "      border-right-color: var(--fill-color);\n",
              "      border-top-color: var(--fill-color);\n",
              "    }\n",
              "    60% {\n",
              "      border-color: transparent;\n",
              "      border-right-color: var(--fill-color);\n",
              "    }\n",
              "    80% {\n",
              "      border-color: transparent;\n",
              "      border-right-color: var(--fill-color);\n",
              "      border-bottom-color: var(--fill-color);\n",
              "    }\n",
              "    90% {\n",
              "      border-color: transparent;\n",
              "      border-bottom-color: var(--fill-color);\n",
              "    }\n",
              "  }\n",
              "</style>\n",
              "\n",
              "      <script>\n",
              "        async function quickchart(key) {\n",
              "          const quickchartButtonEl =\n",
              "            document.querySelector('#' + key + ' button');\n",
              "          quickchartButtonEl.disabled = true;  // To prevent multiple clicks.\n",
              "          quickchartButtonEl.classList.add('colab-df-spinner');\n",
              "          try {\n",
              "            const charts = await google.colab.kernel.invokeFunction(\n",
              "                'suggestCharts', [key], {});\n",
              "          } catch (error) {\n",
              "            console.error('Error during call to suggestCharts:', error);\n",
              "          }\n",
              "          quickchartButtonEl.classList.remove('colab-df-spinner');\n",
              "          quickchartButtonEl.classList.add('colab-df-quickchart-complete');\n",
              "        }\n",
              "        (() => {\n",
              "          let quickchartButtonEl =\n",
              "            document.querySelector('#df-6613420b-6ae0-4aed-95fc-4fec6ce6f509 button');\n",
              "          quickchartButtonEl.style.display =\n",
              "            google.colab.kernel.accessAllowed ? 'block' : 'none';\n",
              "        })();\n",
              "      </script>\n",
              "    </div>\n",
              "\n",
              "    </div>\n",
              "  </div>\n"
            ],
            "application/vnd.google.colaboratory.intrinsic+json": {
              "type": "dataframe",
              "variable_name": "df",
              "summary": "{\n  \"name\": \"df\",\n  \"rows\": 8874,\n  \"fields\": [\n    {\n      \"column\": \"file\",\n      \"properties\": {\n        \"dtype\": \"string\",\n        \"num_unique_values\": 8874,\n        \"samples\": [\n          \"arnold-j/discussion_threads/357.\",\n          \"arora-h/deleted_items/76.\",\n          \"arnold-j/sent/787.\"\n        ],\n        \"semantic_type\": \"\",\n        \"description\": \"\"\n      }\n    },\n    {\n      \"column\": \"message\",\n      \"properties\": {\n        \"dtype\": \"string\",\n        \"num_unique_values\": 8874,\n        \"samples\": [\n          \"Message-ID: <15981684.1075857625375.JavaMail.evans@thyme>\\nDate: Thu, 28 Dec 2000 23:31:00 -0800 (PST)\\nFrom: john.arnold@enron.com\\nTo: torrey.moorer@enron.com\\nSubject: \\nMime-Version: 1.0\\nContent-Type: text/plain; charset=us-ascii\\nContent-Transfer-Encoding: 7bit\\nX-From: John Arnold\\nX-To: Torrey Moorer\\nX-cc: \\nX-bcc: \\nX-Folder: \\\\John_Arnold_Jun2001\\\\Notes Folders\\\\Discussion threads\\nX-Origin: Arnold-J\\nX-FileName: Jarnold.nsf\\n\\nTorrey:\\nCan you also approve Mike Maggi to trade crude as well.  Thanks for your help.\\nJohn\",\n          \"Message-ID: <14030796.1075861389153.JavaMail.evans@thyme>\\nDate: Sun, 18 Nov 2001 21:25:07 -0800 (PST)\\nFrom: 1.10969419.-2@multexinvestornetwork.com\\nTo: harry.arora@enron.com\\nSubject: November 19, 2001 - The age of alliances\\nMime-Version: 1.0\\nContent-Type: text/plain; charset=us-ascii\\nContent-Transfer-Encoding: 7bit\\nX-From: Multex Investor <1.10969419.-2@multexinvestornetwork.com>\\nX-To: Arora, Harry </O=ENRON/OU=NA/CN=RECIPIENTS/CN=HARORA>\\nX-cc: \\nX-bcc: \\nX-Folder: \\\\HARORA (Non-Privileged)\\\\Arora, Harry\\\\Deleted Items\\nX-Origin: Arora-H\\nX-FileName: HARORA (Non-Privileged).pst\\n\\n\\nYou have questions, we have suggestions. Reports you could download \\ndeal with burning questions of the day: beyond naming rights for \\nEnron Field, what is the impact of Enron's (ENE) merger with \\nDynergy (DYN)? How are alliances affecting the hardware sector? \\nYou can also read about telecom equipment makers that face hard \\ntimes and more upbeat trends in the VC market.\\n\\n***************************************************************\\nYou are receiving this mail because you have registered for\\nMultex Investor. To unsubscribe, see bottom of this message.\\n***************************************************************\\n\\n======================== Sponsored by ========================= \\n\\nScottrade Rated #1 Broker by Kiplinger's Personal Finance! Trade\\nstocks for $7 at Scottrade! Experience top-rated customer service and\\nsupport in each of our 140+ offices nationwide! $25,000,000 account\\nprotection and NO inactivity fees are two of many reasons why you should\\napply. Find out more: click here!\\n\\nhttp://www.scottrade.com/index.asp?supbid=4400\\n==============================================================\\n\\n\\nBelow\\n--------\\n\\n- Investment ideas\\n- Broker and third-party research\\n- Online advice and chats\\n- Free and sponsored reports\\n\\n\\nInvestment ideas \\n-----------------------------------------\\n\\n1. INVESTMENT IDEAS\\nCan equipment makers overcome a capex slowdown in 2002?\\nAnalysts believe that a few stocks are worth buying despite continued belt \\ntightening.\\n\\nby John Filar Atwood, equity research columnist\\n\\nThe 2002 capex picture for large carriers is coming into focus, and it isn't \\npretty. The push to control spending will continue, and capex budgets look \\nto be slashed by an average of 25 percent next year.\\n\\nClick here to read more.\\nhttp://www.multexinvestor.com/article.asp?docid=4347&nd=1119\\n\\n\\n2. INVESTMENT IDEAS\\nBetter safe than sorry\\nIn an insecure world, Corporate America is investing in security software\\n\\nBy Carla Drysdale\\n\\nIf you're like me, a \\\"virus warning\\\" in your email inbox isn't likely to faze you. \\nYou click on it and glance through it, with a vague sense of gratitude that \\nthe warning will hopefully prevent your computer from imploding. \\n\\nSo at first I took it in stride when I received a message saying: \\\"If you receive \\nan email entitled 'Bad Times,' delete it IMMEDIATELY. Apparently this one is \\npretty nasty.\\\" \\n\\nI thought, okay, and I kept reading. \\\"It will not only erase everything on your \\nhard drive, but it will also delete anything on disks within 20 feet of your \\ncomputer...It will do all your drugs and drink all your liquor.\\\" Now that's a nasty \\nvirus! While this science fiction scenario might have been written by someone \\nwho's seen The Matrix once too often, it is a tongue-in-cheek reminder that smart \\nhackers can wreak all kinds of havoc. \\n\\nFortunately for the makers of anti-virus software, Fortune 100 companies are \\nacutely aware of the problem, and they are keeping security software firms busier \\nthan ever--and that makes them an attractive target for private equity as well. \\n\\nClick here to read more.\\nhttp://www.multexinvestor.com/article.asp?docid=4349&nd=1119\\n\\n\\n======================== Sponsored by ========================= \\n\\nTop Wall Street Watcher Ben Zacks: +43.6%/Year Since 1996\\n \\nMoving with the best and brightest of Wall Street's big-\\nmoney machines earned Ben Zacks a +43.6% average annual \\nreturn since February 1996. Start outperforming long-term. \\nGet Zacks' latest 11-stock buylist with your FREE trial:\\n\\nhttp://www.investools.com/c/go/ZAKS/MTEX-zaksTA2?s=S600\\n==============================================================\\n\\n\\nBroker and third-party reports \\n-----------------------------------------\\n\\n1. TODAY'S SPECIAL REPORT \\nCIBC World Markets discusses voice over Internet Protocol (VoIP) \\nand packet switching technology.\\n\\nCIBC reports on the growing need for data solutions, focusing on \\nnetwork convergence, next-gen services, and the softswitch. They touch on \\nthe role of sector players including Sonus (SONS), Avaya (AV), Cisco (CSCO), \\nand more. (74-page report for purchase - $150)\\nhttp://www.multexinvestor.com/download.asp?docid=25470059&nd=1119\\n\\n\\n2. EDITOR'S PICK: CURRENT RESEARCH FROM THE CUTTING EDGE \\nBear Stearns explains how it sees mergers and alliances affecting \\nthe competitive landscape.\\n\\nThe analysts discuss 3 major business models they see developing in \\nthe hardware space and why they are developing now. They dissect \\nthe HWP/CPQ merger and hypothesize what other alliances or mergers \\nmay take place. (22-page report for purchase - $75)\\nhttp://www.multexinvestor.com/download.asp?docid=25400744&nd=1119\\n\\n\\n3. WHAT'S HOT? \\nSanders Morris Harris offers its insights into the combination of \\ntwo energy sector giants.\\n\\nThe firm offers its opinion on the deal both from a Dynegy (DYN) and \\nEnron perspective (ENE). Enron's swift rise and fall is discussed as well \\nas possible collateral damage and issues to be dealt with as the merger \\nproceeds. (3-page report for purchase - $10)\\nhttp://www.multexinvestor.com/download.asp?docid=25525249&nd=1119\\n\\n\\n4. INVESTORS' CHOICE: 3-DAY FAVORITE \\nRBC Capital Markets reports its findings after a recent trip to \\n5 Silicon Valley network solutions providers.\\n\\nThe analysts recently visited Extreme Networks (EXTR), Juniper \\n(JNPR), Riverstone (RSTN), ONI Systems (ONIS), and Finisar (FNSR). \\nThey relate individual company findings and offer a forward-looking \\nindustry-wide opinion. (3-page report for purchase - $10)\\nhttp://www.multexinvestor.com/download.asp?docid=25456311&nd=1119\\n\\n\\n5. THIRD-PARTY REVIEW \\nStandard & Poors profiles the NYSE's most capitalized company, \\nGeneral Electric (GE).\\n\\nS&P provides an overview, business summary, and industry outlook for GE. \\nAlso included in the report, a peer group comparison, recent news headlines, \\nWall Street analysts' consensus opinions, and S&P's fair value for \\nthe stock. (5-page report for purchase - $5)\\nhttp://www.multexinvestor.com/download.asp?docid=407622&nd=1119\\n\\n\\n======================== Sponsored by ========================= \\n\\nReceive a 4 week RISK-FREE trial subscription to the Financial Times\\n\\nFinancial Times reporters all over the world cover everything from business\\nand economic news to world events like no other publication.  Click on the\\nlink below to start your 4 week risk-free trial subscription and receive\\nthe insightful reports on companies and markets worldwide with the FT's\\nunique, global perspective.\\n\\nSUBSCRIBE TODAY: https://www.ftsubs.com/JBE14J303\\n==============================================================\\n\\n\\nOnline advice and chats \\n-----------------------------------------\\n\\n1. ASK THE ANALYST \\nSchaeffer's Research's Bernie Schaeffer believes recent strength is nothing \\nmore than a bear rally.\\n\\nWhile impressed with the market's broad move higher since Sept. 21, Schaeffer \\nsays to keep an eye on the exit door. Why does he believe bulls will ultimately \\nsuccumb to selling pressure? He can answer questions through today Mon., \\nNov. 19, 5 PM ET. Ask the analyst.\\nhttp://www.multexinvestor.com/AskTheAnalystForm.asp?&nd=1119\\n\\nCan your portfolio be fixed? Discover tactics to help you approach your fallen \\nstocks with sensibility and creativity. Sign up now for Bernies FREE \\nCyberSeminar - \\\"HOW TO REPAIR BROKEN STOCKS\\\". Click here \\nhttp://www.schaeffersresearch.com/redirect.asp?CODE=GB01L8&PAGE=1\\n\\n\\n2. ASK THE EXPERT \\nAmerican Century Investment's Karen Burnett talks about choosing a retirement \\nplan for your business. \\n\\nChoosing a retirement plan for your business or yourself is one of the most \\nimportant financial decisions you will make. Karen Burnett of American Century \\nInvestments will take your questions until Thurs., November 29. \\nClick here\\nhttp://www.multexinvestor.com/AskTheExpertForm.asp?&nd=1119\\n\\n\\n\\nFree and sponsored reports \\n-----------------------------------------\\n\\n1. FREE RESEARCH REPORT \\nRobertson Stephens discusses telecom underachiever Lucent's (LU) future \\nfollowing its analyst meeting.\\n\\nThe firm provides a rather skeptical view of Lucent's prospects, despite new \\nproduct announcements in their optical, packet-based, access, and wireless \\nbusinesses. This ten-page report, which usually sells for $25, is free to \\nmembers for the next 72 hours.\\nhttp://www.multexinvestor.com/download.asp?docid=25466802&nd=1119\\n\\n\\n2. DAILY FREE SPONSOR REPORT \\nMorgan Stanley sets a $43 price target on ADRs of Spanish telecom service \\nprovider Telefonica (TEF.N).\\n\\nThe firm suggests that, \\\"Telefonica's fundamentals are very good, with a sound \\nfinancial position,\\\" but also notes that short-term risks in Latin America may \\nadd pressure to the stock. Register for the firm's free-research trial to \\naccess research on this and other stocks.\\nhttp://www.multexinvestor.com/download.asp?docid=5492833&sid=8&nd=1119\\n\\n===================================================================\\nPlease send your questions and comments to:\\nmailto:investor.help@multex.com\\n\\nIf you'd like to learn more about Multex Investor, please visit:\\nhttp://www.multexinvestor.com/welcome.asp\\n\\nIf you can't remember your password and/or your user name, click here:\\nhttp://www.multexinvestor.com/lostinfo.asp\\n\\nIf you want to update your email address, please click on the url below:\\nhttp://www.multexinvestor.com/edituinfo.asp\\n===================================================================\\n\\nTo remove yourself from the mailing list for the Daily Update, please\\nREPLY to THIS email message with the word UNSUBSCRIBE in the subject\\nline. To remove yourself from all Multex Investor mailings, including\\nthe Daily Update and The Internet Analyst, please respond with the \\nwords NO EMAIL in the subject line. \\n\\nYou may also unsubscribe on the account update page at: \\nhttp://www.multexinvestor.com/edituinfo.asp\\n\\n===================================================================\\nPlease email advertising inquiries to us at:\\nmailto:advertise@multex.com.\\n\\nBe sure to check out our other newsletters, The Internet Analyst \\nand The Telecomm Analyst by Multex.com. The newsletters will \\ninform, educate, and entertain you with usable investment data, \\nideas, experts, and info about the Internet and telecommunications \\nsectors. To see this week's issue, \\nclick here: \\nhttp://www.thetelecommanalyst.com/ or \\nhttp://www.theinternetanalyst.com/\",\n          \"Message-ID: <28471123.1075857641162.JavaMail.evans@thyme>\\nDate: Mon, 1 Jan 2001 08:36:00 -0800 (PST)\\nFrom: john.arnold@enron.com\\nTo: edie.leschber@enron.com\\nSubject: Re: Gas Team - Reorg\\nMime-Version: 1.0\\nContent-Type: text/plain; charset=us-ascii\\nContent-Transfer-Encoding: 7bit\\nX-From: John Arnold\\nX-To: Edie Leschber\\nX-cc: \\nX-bcc: \\nX-Folder: \\\\John_Arnold_Jun2001\\\\Notes Folders\\\\Sent\\nX-Origin: Arnold-J\\nX-FileName: Jarnold.nsf\\n\\nthat info is correct.\\n\\n\\n   \\n\\t\\n\\t\\n\\tFrom:  Edie Leschber                           12/29/2000 12:30 PM\\n\\t\\n\\nTo: John Arnold/HOU/ECT@ECT\\ncc:  \\nSubject: Gas Team - Reorg\\n\\nJohn,\\nMy name is Edie Leschber and I will be your Business Analysis and Reporting \\nContact effective immediately.  I am currently in the process of\\nverifying team members under your section of the Gas Team.  Attached is a \\nfile with the current list.  Please confirm that your list is complete and/or\\nsend me changes to it at your earliest convenience.  New cost centers have \\nbeen set up due to the reorganization and we would like to begin using these\\nas soon as possible.  I look forward to meeting you and working with you very \\nsoon.  Thank you for your assistance.\\n\\n\\n\\nEdie Leschber\\nX30669\\n\\n\"\n        ],\n        \"semantic_type\": \"\",\n        \"description\": \"\"\n      }\n    },\n    {\n      \"column\": \"from\",\n      \"properties\": {\n        \"dtype\": \"category\",\n        \"num_unique_values\": 653,\n        \"samples\": [\n          \"infousa4492@telkom.net\",\n          \"a..shankman@enron.com\",\n          \"john.will@enron.com\"\n        ],\n        \"semantic_type\": \"\",\n        \"description\": \"\"\n      }\n    },\n    {\n      \"column\": \"to\",\n      \"properties\": {\n        \"dtype\": \"category\",\n        \"num_unique_values\": 1114,\n        \"samples\": [\n          \"dutch.quigley@enron.com, john.griffith@enron.com\",\n          \"mark.miles@enron.com\",\n          \"tswg@caiso.com\"\n        ],\n        \"semantic_type\": \"\",\n        \"description\": \"\"\n      }\n    },\n    {\n      \"column\": \"cc\",\n      \"properties\": {\n        \"dtype\": \"category\",\n        \"num_unique_values\": 429,\n        \"samples\": [\n          \"isoclientrelations@caiso.com, cvangelatos@caiso.com, mrothleder@caiso.com\",\n          \"Lawner, Leslie; Fulton, Donna\",\n          \"nicole.scott@enron.com, jennifer.medcalf@enron.com, tracy.ramsey@enron.com\"\n        ],\n        \"semantic_type\": \"\",\n        \"description\": \"\"\n      }\n    },\n    {\n      \"column\": \"bcc\",\n      \"properties\": {\n        \"dtype\": \"category\",\n        \"num_unique_values\": 288,\n        \"samples\": [\n          \"pam.butler@enron.com\",\n          \"felicia.solis@enron.com\",\n          \"john.massey@enron.com\"\n        ],\n        \"semantic_type\": \"\",\n        \"description\": \"\"\n      }\n    },\n    {\n      \"column\": \"date\",\n      \"properties\": {\n        \"dtype\": \"object\",\n        \"num_unique_values\": 4628,\n        \"samples\": [\n          \"Wed, 20 Jun 2001 14:40:30 -0700 (PDT)\",\n          \"Tue, 11 Sep 2001 14:44:51 -0700 (PDT)\",\n          \"Sun, 13 May 2001 15:23:00 -0700 (PDT)\"\n        ],\n        \"semantic_type\": \"\",\n        \"description\": \"\"\n      }\n    },\n    {\n      \"column\": \"subject\",\n      \"properties\": {\n        \"dtype\": \"category\",\n        \"num_unique_values\": 2754,\n        \"samples\": [\n          \"CASIO NOTIFICATION - TSWG CONFERENCE CALL 8/30/00\",\n          \"Farewell Drinks\",\n          \"Re: BMC update, 17:15\"\n        ],\n        \"semantic_type\": \"\",\n        \"description\": \"\"\n      }\n    },\n    {\n      \"column\": \"cleaned_message\",\n      \"properties\": {\n        \"dtype\": \"string\",\n        \"num_unique_values\": 8497,\n        \"samples\": [\n          \"mimevers contenttyp textplain charsetusascii contenttransferencod bit x x x x xfolder jarnold nonprivilegedarnold johnsent item xorigin arnoldj xfilenam jarnold nonprivilegedpst see littl buy end user longer term sell produc one guy sold month cal get soak market though buy gener guy duke bot lot cal last week also think guy buy cal sell front el paso sold delta equival probabl day yesterday got soak right marapr way overvalu hard bring function cal cal weak seen lot mm qq vv spread recent guy tri buy front hard believ mm flat goe show overpr cal mind origin messag sent wednesday may totlli agre expirationreason im bullsprd june juli cover littl flat px june est erday sati short oct delta sold marapr well think curv roll distil mkt get way hype think well ive long go littl short shudnt relev natga fundament st qbullish natga late think well full see much custom side end user get scare longer normalstop buyinghear pipelin still packedjust wonder ifwhen winter strip get hitwil make marapr come linealso buy janfeb vs marapr decent condor think origin messag sent wednesday may think ive got yahoo somewher comput ill tri find expect today still think fundament equilibrium scare much hate technic wave seriou chop didnt expiri day id worri short cover ralli howev think market go hard time place baseload ga month storag guy target right expect back rel last month origin messag mail kofamericaecomeenronenroncom sent wednesday may yahoo bloomberg profession entir oil industri yahoo ill hell time get anoth syetm due firewal issu etcyou know copror america pted im get natga guy broker yahoo well steve_lafontain get load get bloomberg terminalcan share news stori etcexcel fundament dat base well worth price alot manag money use well origin messag sent wednesday may msn messeng think im set origin messag enron mail kofamericaecomeenronenroncom sent wednesday may hey johnnymi number think next week like ish well see thot flat px still say med term lower low areamayb lower wud pleas get bloomberg yahho inst messang mkt chat wout day lag fyiour end user buy step outta way lower px level less support good see nitewud like gone wyou guy earli meet sat regard origin messag sent tuesday may pm forecast aga forecast week next week week last year deficit boa pira go deficit year year surplu time next week year averag inventori week vs project continu taken bearish given current price still well histor averag price impli inventori level\",\n          \"mimevers contenttyp textplain charsetusascii contenttransferencod bit x x x x xfolder phillip_allen_junenot foldersal document xorigin allenp xfilenam pallennsf jeff hear new noi file ad oper statement partial year tri email photo soon phillip\",\n          \"mimevers contenttyp textplain charsetusascii contenttransferencod bit x x x x xfolder phillip_allen_decnot foldersdiscuss thread xorigin allenp xfilenam pallennsf forward phillip k allenhouect pm enormanlivingcom pm livingcom inquiri thank inquiri pleas creat account assist effect futur go httpwwwlivingcomutilloginjhtml select piec might work view simpli click follow url hope help area rug httpwwwlivingcomshoppingitemitemjhtmlproductidlcispenjx httpwwwlivingcomshoppingitemitemjhtmlproductidlcccon x httpwwwlivingcomshoppingitemitemjhtmlproductidlcmerilandneedl x httpwwwlivingcomshoppingitemitemjhtmlproductidlcpand x sofa httpwwwlivingcomshoppingitemitemjhtmlproductidlcsfupa httpwwwlivingcomshoppingitemitemjhtmlproductidlcclleslp httpwwwlivingcomshoppingitemitemjhtmlproductidlcclleslp httpwwwlivingcomshoppingitemitemjhtmlproductidlcjjhi chair httpwwwlivingcomshoppingitemitemjhtmlproductidlcclleinc httpwwwlivingcomshoppingitemitemjhtmlproductidlccllercl httpwwwlivingcomshoppingitemitemjhtmlproductidlccl httpwwwlivingcomshoppingitemitemjhtmlproductidlcswoo occasion tabl httpwwwlivingcomshoppingitemitemjhtmlproductidlcmagp httpwwwlivingcomshoppingitemitemjhtmlproductidlcpula httpwwwlivingcomshoppingitemitemjhtmlproductidlccasrcen httpwwwlivingcomshoppingitemitemjhtmlproductidlccasrcen dine set httpwwwlivingcomshoppingitemitemjhtmlproductidlcvilacomp httpwwwlivingcomshoppingitemitemjhtmlproductidlcsitcfhchhr httpwwwlivingcomshoppingitemitemjhtmlproductidlccoch best regard erika designadvicelivingcom ps check januari clearanc httplivingcomsalesjanuary_clearancejhtml valentin day gift httplivingcomshoppinglistlistjhtmltypesalevalentin origin messag sent monday januari pm plan build hous texa hillcountri exterior farmhous style porch front back consid follow featur stain score concret floor open livingdiningkitchen concept lot window home offic bedroom upstair want relax comfort style exactli countri help addit user info id email pallenenroncom firstnam phillip lastnam allen\"\n        ],\n        \"semantic_type\": \"\",\n        \"description\": \"\"\n      }\n    }\n  ]\n}"
            }
          },
          "metadata": {},
          "execution_count": 4
        }
      ]
    },
    {
      "cell_type": "markdown",
      "metadata": {
        "id": "nwqmfnTawGDZ"
      },
      "source": [
        "#  PHASE 1: Behavioral Feature Engineering\n",
        "## Goals:\n",
        "Capture communication patterns that deviate from the norm\n",
        "\n",
        "Measure metadata-based anomalies"
      ]
    },
    {
      "cell_type": "markdown",
      "metadata": {
        "id": "yZfvZqnPwKxn"
      },
      "source": [
        "## Features to Extract"
      ]
    },
    {
      "cell_type": "code",
      "execution_count": null,
      "metadata": {
        "id": "GKTBV-Cbu7OS"
      },
      "outputs": [],
      "source": [
        "# 1. Number of recipients\n",
        "df[\"num_to\"] = df[\"to\"].fillna(\"\").apply(lambda x: len(x.split(\",\")))\n",
        "df[\"num_cc\"] = df[\"cc\"].fillna(\"\").apply(lambda x: len(x.split(\",\")))\n",
        "df[\"num_bcc\"] = df[\"bcc\"].fillna(\"\").apply(lambda x: len(x.split(\",\")))"
      ]
    },
    {
      "cell_type": "code",
      "execution_count": null,
      "metadata": {
        "id": "CwYLPLokvGZb"
      },
      "outputs": [],
      "source": [
        "# 2. Time features\n",
        "from dateutil import parser\n",
        "\n",
        "def safe_parse_date(x):\n",
        "    try:\n",
        "        return parser.parse(x)\n",
        "    except:\n",
        "        return pd.NaT\n",
        "\n",
        "df[\"date\"] = df[\"date\"].apply(safe_parse_date)"
      ]
    },
    {
      "cell_type": "code",
      "execution_count": null,
      "metadata": {
        "id": "MWJ1k7TEvNaW"
      },
      "outputs": [],
      "source": [
        "# Step 1: Ensure the column is in datetime format\n",
        "df[\"date\"] = pd.to_datetime(df[\"date\"], errors=\"coerce\")\n",
        "# Step 2: Now you can safely extract the hour\n",
        "df[\"hour\"] = df[\"date\"].dt.hour\n",
        "\n",
        "# Step 3: Check if the hour is during off hours\n",
        "df[\"is_off_hours\"] = df[\"hour\"].apply(lambda x: x < 6 or x > 20 if pd.notnull(x) else False)\n"
      ]
    },
    {
      "cell_type": "code",
      "execution_count": null,
      "metadata": {
        "id": "yVSFudJHvcsl"
      },
      "outputs": [],
      "source": [
        "# 3. Email length\n",
        "df[\"char_length\"] = df[\"cleaned_message\"].str.len()\n",
        "df[\"word_count\"] = df[\"cleaned_message\"].str.split().str.len()"
      ]
    },
    {
      "cell_type": "code",
      "execution_count": null,
      "metadata": {
        "id": "oU-sS2rgvk55"
      },
      "outputs": [],
      "source": [
        " #4. Unique recipients (per sender) — useful for user profiling later\n",
        "sender_recipient_map = df.groupby(\"from\")[\"to\"].apply(lambda x: set(\",\".join(x.dropna()).split(\",\")))\n",
        "df[\"unique_recipient_count\"] = df[\"from\"].map(lambda sender: len(sender_recipient_map.get(sender, [])))"
      ]
    },
    {
      "cell_type": "markdown",
      "metadata": {
        "id": "yO3FFKeVvrP4"
      },
      "source": [
        "# 1. PHASE 2: NLP Feature Engineering\n",
        "## Goals:\n",
        "Convert messages into vector format (TF-IDF / Embeddings)\n",
        "\n",
        "Detect keywords, sentiment, named entities"
      ]
    },
    {
      "cell_type": "markdown",
      "metadata": {
        "id": "kvhIIRL9v5dR"
      },
      "source": [
        "## A. TF-IDF Vectorization"
      ]
    },
    {
      "cell_type": "code",
      "execution_count": null,
      "metadata": {
        "id": "3JWJ19BTvoNB"
      },
      "outputs": [],
      "source": [
        "from sklearn.feature_extraction.text import TfidfVectorizer\n",
        "\n",
        "tfidf = TfidfVectorizer(max_features=1000)\n",
        "tfidf_matrix = tfidf.fit_transform(df[\"cleaned_message\"])"
      ]
    },
    {
      "cell_type": "markdown",
      "metadata": {
        "id": "FPDFiDPLwBpB"
      },
      "source": [
        "## B. Sentiment Analysis"
      ]
    },
    {
      "cell_type": "code",
      "execution_count": null,
      "metadata": {
        "id": "Ua5jYFbzwAPs"
      },
      "outputs": [],
      "source": [
        "from textblob import TextBlob\n",
        "\n",
        "df[\"sentiment_polarity\"] = df[\"cleaned_message\"].apply(lambda x: TextBlob(x).sentiment.polarity)"
      ]
    },
    {
      "cell_type": "markdown",
      "metadata": {
        "id": "K2G5WWLxwTKl"
      },
      "source": [
        "Range: -1 = negative, 0 = neutral, +1 = positive\n",
        "\n",
        "Sudden shifts in tone can be an insider signal"
      ]
    },
    {
      "cell_type": "markdown",
      "metadata": {
        "id": "7YPYt21VwXEI"
      },
      "source": [
        "## C. Insider Keyword Match (Tagging)\n"
      ]
    },
    {
      "cell_type": "code",
      "execution_count": null,
      "metadata": {
        "id": "Dgh2Xn5nwSgZ"
      },
      "outputs": [],
      "source": [
        "keywords = [\n",
        "    \"confidential\", \"internal\", \"secret\", \"leak\", \"hr\", \"access\", \"credentials\",\n",
        "    \"breach\", \"login\", \"download\", \"report\", \"copy\", \"exfiltrate\", \"unauthorized\"\n",
        "]\n",
        "\n",
        "df[\"threat_keyword_count\"] = df[\"cleaned_message\"].apply(\n",
        "    lambda x: sum(1 for word in x.split() if word in keywords)\n",
        ")"
      ]
    },
    {
      "cell_type": "markdown",
      "metadata": {
        "id": "_-vPPTEgxjVq"
      },
      "source": [
        "# PHASE 3: Modeling (Supervised + Anomaly-Based)"
      ]
    },
    {
      "cell_type": "markdown",
      "metadata": {
        "id": "NnOrFDmMxlC_"
      },
      "source": [
        "## Option A: Anomaly Detection (no labels)"
      ]
    },
    {
      "cell_type": "code",
      "execution_count": null,
      "metadata": {
        "id": "00cvYSuqx1-g"
      },
      "outputs": [],
      "source": [
        "features = pd.concat([\n",
        "    df[[\"num_to\", \"num_cc\", \"num_bcc\", \"hour\", \"is_off_hours\", \"char_length\", \"word_count\", \"sentiment_polarity\", \"threat_keyword_count\"]],\n",
        "    pd.DataFrame(tfidf_matrix.toarray())\n",
        "], axis=1)"
      ]
    },
    {
      "cell_type": "code",
      "execution_count": null,
      "metadata": {
        "id": "z3W-fWtExZPC"
      },
      "outputs": [],
      "source": [
        "# Ensure all feature names are strings\n",
        "features.columns = features.columns.astype(str)"
      ]
    },
    {
      "cell_type": "code",
      "execution_count": null,
      "metadata": {
        "id": "pFFfL4qQxspi"
      },
      "outputs": [],
      "source": [
        "# 1a. Compute median hour (ignoring NaN)\n",
        "median_hour = df[\"hour\"].median()\n",
        "\n",
        "# 1b. Fill missing hours with that median\n",
        "df[\"hour\"].fillna(median_hour)\n",
        "\n",
        "# 1c. Recompute is_off_hours (now no NaN)\n",
        "df[\"is_off_hours\"] = df[\"hour\"].apply(lambda x: x < 6 or x > 20)"
      ]
    },
    {
      "cell_type": "code",
      "source": [
        "import joblib"
      ],
      "metadata": {
        "id": "dXD0t365zAPO"
      },
      "execution_count": null,
      "outputs": []
    },
    {
      "cell_type": "code",
      "execution_count": null,
      "metadata": {
        "colab": {
          "base_uri": "https://localhost:8080/"
        },
        "id": "P_3GukGjyCnC",
        "outputId": "62582613-0718-485a-b1d2-c6222f855d99"
      },
      "outputs": [
        {
          "output_type": "execute_result",
          "data": {
            "text/plain": [
              "['simple_imputer.pkl']"
            ]
          },
          "metadata": {},
          "execution_count": 20
        }
      ],
      "source": [
        "# — 2a. Impute missing values\n",
        "imputer = SimpleImputer(strategy=\"mean\")\n",
        "features_imputed = pd.DataFrame(\n",
        "    imputer.fit_transform(features),\n",
        "    columns=features.columns\n",
        ")\n",
        "\n",
        "# Save the imputer for future inference\n",
        "joblib.dump(imputer, \"simple_imputer.pkl\")"
      ]
    },
    {
      "cell_type": "code",
      "source": [
        "from sklearn.ensemble import IsolationForest"
      ],
      "metadata": {
        "id": "-M2rZNxJzY91"
      },
      "execution_count": null,
      "outputs": []
    },
    {
      "cell_type": "code",
      "source": [
        "# — 2b. Train the IsolationForest on the imputed features\n",
        "if_model = IsolationForest(contamination=0.05, random_state=42)\n",
        "df[\"anomaly_score\"] = if_model.fit_predict(features_imputed)\n",
        "\n",
        "# Save the trained anomaly detector\n",
        "joblib.dump(if_model, \"isolation_forest_insider.pkl\")\n",
        "\n",
        "# Quick sanity check\n",
        "print(df[\"anomaly_score\"].value_counts())"
      ],
      "metadata": {
        "colab": {
          "base_uri": "https://localhost:8080/"
        },
        "id": "yrH_GB0yy1kJ",
        "outputId": "aa6b93a2-72e9-475a-8ec0-6fc1bde56db9"
      },
      "execution_count": null,
      "outputs": [
        {
          "output_type": "stream",
          "name": "stdout",
          "text": [
            "anomaly_score\n",
            " 1    131969\n",
            "-1      6946\n",
            "Name: count, dtype: int64\n"
          ]
        }
      ]
    },
    {
      "cell_type": "markdown",
      "source": [
        "Option B: Supervised Model"
      ],
      "metadata": {
        "id": "8fGsHTME2nqT"
      }
    },
    {
      "cell_type": "code",
      "source": [
        "df[\"label\"] = (\n",
        "    (df[\"num_bcc\"] > 5) |\n",
        "    (df[\"is_off_hours\"] & (df[\"threat_keyword_count\"] > 0))\n",
        ").astype(int)\n"
      ],
      "metadata": {
        "id": "Qv7ZFDEz2m54"
      },
      "execution_count": null,
      "outputs": []
    },
    {
      "cell_type": "code",
      "source": [
        "from sklearn.ensemble import RandomForestClassifier\n",
        "from sklearn.model_selection import train_test_split\n",
        "from sklearn.metrics import classification_report\n",
        "\n",
        "features = pd.concat([\n",
        "    df[[\"num_to\", \"num_cc\", \"num_bcc\", \"hour\", \"is_off_hours\", \"char_length\", \"word_count\", \"sentiment_polarity\", \"threat_keyword_count\"]],\n",
        "    pd.DataFrame(tfidf_matrix.toarray())\n",
        "], axis=1)\n",
        "\n",
        "# Ensure all feature names are strings\n",
        "features.columns = features.columns.astype(str)\n",
        "\n",
        "X_train, X_test, y_train, y_test = train_test_split(features, df[\"label\"], test_size=0.2, random_state=42)\n",
        "clf = RandomForestClassifier()\n",
        "clf.fit(X_train, y_train)\n",
        "\n",
        "print(classification_report(y_test, clf.predict(X_test)))\n"
      ],
      "metadata": {
        "colab": {
          "base_uri": "https://localhost:8080/"
        },
        "id": "uOfVVMfAzUnZ",
        "outputId": "f78e2ee8-05cb-4897-c436-4587089f3226"
      },
      "execution_count": null,
      "outputs": [
        {
          "output_type": "stream",
          "name": "stdout",
          "text": [
            "              precision    recall  f1-score   support\n",
            "\n",
            "           0       1.00      1.00      1.00     26885\n",
            "           1       1.00      0.99      0.99       898\n",
            "\n",
            "    accuracy                           1.00     27783\n",
            "   macro avg       1.00      0.99      1.00     27783\n",
            "weighted avg       1.00      1.00      1.00     27783\n",
            "\n"
          ]
        }
      ]
    },
    {
      "cell_type": "code",
      "source": [
        "joblib.dump(clf, \"random_forest_insider.pkl\")"
      ],
      "metadata": {
        "colab": {
          "base_uri": "https://localhost:8080/"
        },
        "id": "QCM7aOWb2wLc",
        "outputId": "9350ed75-3908-4143-c935-ce3cc0031eb8"
      },
      "execution_count": null,
      "outputs": [
        {
          "output_type": "execute_result",
          "data": {
            "text/plain": [
              "['random_forest_insider.pkl']"
            ]
          },
          "metadata": {},
          "execution_count": 27
        }
      ]
    },
    {
      "cell_type": "code",
      "source": [
        "compressed_df = df.iloc[:100]  # 100 rows\n"
      ],
      "metadata": {
        "id": "NCKLMmgDWLg2"
      },
      "execution_count": null,
      "outputs": []
    },
    {
      "cell_type": "code",
      "source": [
        "compressed_df.to_csv(\"compressed_file.csv\", index=False) #saving"
      ],
      "metadata": {
        "id": "lV4IlXhE3WP1"
      },
      "execution_count": null,
      "outputs": []
    },
    {
      "cell_type": "code",
      "source": [
        "from google.colab import files\n",
        "files.download(\"compressed_file.csv\")#downlaoding"
      ],
      "metadata": {
        "colab": {
          "base_uri": "https://localhost:8080/",
          "height": 17
        },
        "id": "NRSqwqekWRnp",
        "outputId": "6cc5bd2b-a9bb-499d-d2b9-cb2fd17d893f"
      },
      "execution_count": null,
      "outputs": [
        {
          "output_type": "display_data",
          "data": {
            "text/plain": [
              "<IPython.core.display.Javascript object>"
            ],
            "application/javascript": [
              "\n",
              "    async function download(id, filename, size) {\n",
              "      if (!google.colab.kernel.accessAllowed) {\n",
              "        return;\n",
              "      }\n",
              "      const div = document.createElement('div');\n",
              "      const label = document.createElement('label');\n",
              "      label.textContent = `Downloading \"${filename}\": `;\n",
              "      div.appendChild(label);\n",
              "      const progress = document.createElement('progress');\n",
              "      progress.max = size;\n",
              "      div.appendChild(progress);\n",
              "      document.body.appendChild(div);\n",
              "\n",
              "      const buffers = [];\n",
              "      let downloaded = 0;\n",
              "\n",
              "      const channel = await google.colab.kernel.comms.open(id);\n",
              "      // Send a message to notify the kernel that we're ready.\n",
              "      channel.send({})\n",
              "\n",
              "      for await (const message of channel.messages) {\n",
              "        // Send a message to notify the kernel that we're ready.\n",
              "        channel.send({})\n",
              "        if (message.buffers) {\n",
              "          for (const buffer of message.buffers) {\n",
              "            buffers.push(buffer);\n",
              "            downloaded += buffer.byteLength;\n",
              "            progress.value = downloaded;\n",
              "          }\n",
              "        }\n",
              "      }\n",
              "      const blob = new Blob(buffers, {type: 'application/binary'});\n",
              "      const a = document.createElement('a');\n",
              "      a.href = window.URL.createObjectURL(blob);\n",
              "      a.download = filename;\n",
              "      div.appendChild(a);\n",
              "      a.click();\n",
              "      div.remove();\n",
              "    }\n",
              "  "
            ]
          },
          "metadata": {}
        },
        {
          "output_type": "display_data",
          "data": {
            "text/plain": [
              "<IPython.core.display.Javascript object>"
            ],
            "application/javascript": [
              "download(\"download_37e3abe6-46ed-448d-b391-199ae69694f1\", \"compressed_file.csv\", 254748)"
            ]
          },
          "metadata": {}
        }
      ]
    },
    {
      "cell_type": "code",
      "source": [
        "df.columns"
      ],
      "metadata": {
        "colab": {
          "base_uri": "https://localhost:8080/"
        },
        "id": "QR_z_Z2wWWwP",
        "outputId": "7e436252-5f2a-4f47-e891-08a18aaf9e64"
      },
      "execution_count": null,
      "outputs": [
        {
          "output_type": "execute_result",
          "data": {
            "text/plain": [
              "Index(['file', 'message', 'from', 'to', 'cc', 'bcc', 'date', 'subject',\n",
              "       'cleaned_message'],\n",
              "      dtype='object')"
            ]
          },
          "metadata": {},
          "execution_count": 13
        }
      ]
    },
    {
      "cell_type": "code",
      "source": [
        "df2 = pd.read_csv(\"final_predictions2.csv\")"
      ],
      "metadata": {
        "id": "X-VyNrwAYVtR"
      },
      "execution_count": 3,
      "outputs": []
    },
    {
      "cell_type": "code",
      "source": [
        "df2.columns"
      ],
      "metadata": {
        "colab": {
          "base_uri": "https://localhost:8080/"
        },
        "id": "UgxF1slCaGNH",
        "outputId": "7a1f31ca-2739-4416-ac91-6cd606f559b8"
      },
      "execution_count": null,
      "outputs": [
        {
          "output_type": "execute_result",
          "data": {
            "text/plain": [
              "Index(['from', 'to', 'date', 'cleaned_message', 'threat_keyword_count',\n",
              "       'label', 'predicted_label', 'anomaly_score'],\n",
              "      dtype='object')"
            ]
          },
          "metadata": {},
          "execution_count": 15
        }
      ]
    },
    {
      "cell_type": "code",
      "source": [
        "print(df2.columns.tolist())"
      ],
      "metadata": {
        "id": "j4WnOZpBaHp5",
        "colab": {
          "base_uri": "https://localhost:8080/"
        },
        "outputId": "427394cd-f286-41b5-ed87-4e623037c719"
      },
      "execution_count": 4,
      "outputs": [
        {
          "output_type": "stream",
          "name": "stdout",
          "text": [
            "['from', 'to', 'date', 'cleaned_message', 'threat_keyword_count', 'label', 'predicted_label', 'anomaly_score']\n"
          ]
        }
      ]
    },
    {
      "cell_type": "code",
      "source": [],
      "metadata": {
        "id": "TXUFEv-eUEWK"
      },
      "execution_count": null,
      "outputs": []
    }
  ],
  "metadata": {
    "colab": {
      "provenance": []
    },
    "kernelspec": {
      "display_name": "Python 3",
      "name": "python3"
    },
    "language_info": {
      "name": "python"
    }
  },
  "nbformat": 4,
  "nbformat_minor": 0
}